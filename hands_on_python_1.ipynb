{
 "cells": [
  {
   "cell_type": "code",
   "execution_count": 1,
   "id": "dcd1d55e",
   "metadata": {},
   "outputs": [
    {
     "name": "stdout",
     "output_type": "stream",
     "text": [
      "welcome to python world!!!\n"
     ]
    }
   ],
   "source": [
    "print(\"welcome to python world!!!\")"
   ]
  },
  {
   "cell_type": "code",
   "execution_count": 100,
   "id": "4d3965ba",
   "metadata": {},
   "outputs": [],
   "source": [
    "## we just have completed\n",
    "#  Keywords & Identifiers & comments\n",
    "# indentations and statements and variables\n",
    "# Lists and tuples and dict\n"
   ]
  },
  {
   "cell_type": "markdown",
   "id": "c6eccb88",
   "metadata": {},
   "source": [
    "#### Keywords with python\n",
    "Defination :keywords in python are reserved word that cannot be used as ordinary identifier.They are used to define the syntax and structure of the python language.\n",
    "\n",
    "List of keywords: False, None, True, and, as, import, async, assert, await, break, class, continue, def, del, try, catch, finally etc.\n",
    "\n",
    "Immutability: keywords are immutable. this means their meaning and defination can't be altered.\n",
    "\n",
    "Total keywords in python: as of python 3.9, there are 36 keywords.\n",
    "\n",
    "special keywords: async and await are used for handling asynchoneous processing. \n",
    "\n",
    "\n",
    "usage: each keyword has a specific meaning and usages in python. For example, def keyword is used to define or creating a function, if is used for making conditions, for and while loop used for loops or iterating and class is used for defining a class.\n"
   ]
  },
  {
   "cell_type": "code",
   "execution_count": 2,
   "id": "ea1b1361",
   "metadata": {},
   "outputs": [
    {
     "name": "stdout",
     "output_type": "stream",
     "text": [
      "Note: you may need to restart the kernel to use updated packages.\n"
     ]
    },
    {
     "name": "stderr",
     "output_type": "stream",
     "text": [
      "WARNING: Ignoring invalid distribution -ffi (c:\\users\\user\\anaconda3\\lib\\site-packages)\n",
      "WARNING: Ignoring invalid distribution -ffi (c:\\users\\user\\anaconda3\\lib\\site-packages)\n",
      "ERROR: Could not find a version that satisfies the requirement keyword (from versions: none)\n",
      "ERROR: No matching distribution found for keyword\n",
      "WARNING: Ignoring invalid distribution -ffi (c:\\users\\user\\anaconda3\\lib\\site-packages)\n",
      "WARNING: Ignoring invalid distribution -ffi (c:\\users\\user\\anaconda3\\lib\\site-packages)\n",
      "WARNING: Ignoring invalid distribution -ffi (c:\\users\\user\\anaconda3\\lib\\site-packages)\n"
     ]
    }
   ],
   "source": [
    "pip install keyword"
   ]
  },
  {
   "cell_type": "code",
   "execution_count": 16,
   "id": "3a517ad7",
   "metadata": {},
   "outputs": [
    {
     "data": {
      "text/plain": [
       "'3.9.7 (default, Sep 16 2021, 16:59:28) [MSC v.1916 64 bit (AMD64)]'"
      ]
     },
     "execution_count": 16,
     "metadata": {},
     "output_type": "execute_result"
    }
   ],
   "source": [
    "import sys\n",
    "sys.version"
   ]
  },
  {
   "cell_type": "code",
   "execution_count": 17,
   "id": "0c4d4c26",
   "metadata": {},
   "outputs": [
    {
     "data": {
      "text/plain": [
       "sys.version_info(major=3, minor=9, micro=7, releaselevel='final', serial=0)"
      ]
     },
     "execution_count": 17,
     "metadata": {},
     "output_type": "execute_result"
    }
   ],
   "source": [
    "sys.version_info"
   ]
  },
  {
   "cell_type": "code",
   "execution_count": null,
   "id": "ae6eb366",
   "metadata": {},
   "outputs": [],
   "source": [
    "### what is package and libraries: it is box or wrapper and inside the box you have the many tools.\n",
    "### Math: addition, substraction,Multi,Division,,, mean, mode, aveage, sum\n",
    "#### python has many packages. \n",
    "##### what is the advatage of package: reduce your effort,\n",
    "#### imagine 100 packages=10GB,\n",
    "### 10 packages, 20 packages, 1000 packages\n",
    "#### what package does: package has container and every package are many functions or methods.\n",
    "#### import tells python we need this package. and use it in the ram or memory."
   ]
  },
  {
   "cell_type": "code",
   "execution_count": 26,
   "id": "b2ffe67c",
   "metadata": {},
   "outputs": [
    {
     "name": "stdout",
     "output_type": "stream",
     "text": [
      "This is my keyword list ['False', 'None', 'True', '__peg_parser__', 'and', 'as', 'assert', 'async', 'await', 'break', 'class', 'continue', 'def', 'del', 'elif', 'else', 'except', 'finally', 'for', 'from', 'global', 'if', 'import', 'in', 'is', 'lambda', 'nonlocal', 'not', 'or', 'pass', 'raise', 'return', 'try', 'while', 'with', 'yield']\n",
      "this is my keyword count 36\n",
      "7\n"
     ]
    }
   ],
   "source": [
    "#Loading package keyword into your memory using import\n",
    "import keyword\n",
    "# use kwlist of keyword package to print all the keywords\n",
    "print(\"This is my keyword list\", keyword.kwlist)\n",
    "# len function is used to count the how many kwlist are present\n",
    "print(\"this is my keyword count\",len(keyword.kwlist))\n",
    "# len function is used for count the length of \"kaushik\"\n",
    "print(len(\"kaushik\"))"
   ]
  },
  {
   "cell_type": "markdown",
   "id": "fa9ed431",
   "metadata": {},
   "source": [
    "### python is case sensatative. \n",
    "##### capital is different with small letters."
   ]
  },
  {
   "cell_type": "code",
   "execution_count": null,
   "id": "83111200",
   "metadata": {},
   "outputs": [],
   "source": [
    "### print is used for print the satatement. "
   ]
  },
  {
   "cell_type": "code",
   "execution_count": 4,
   "id": "9d39f7ed",
   "metadata": {},
   "outputs": [
    {
     "ename": "SyntaxError",
     "evalue": "cannot assign to None (Temp/ipykernel_6392/3592903436.py, line 1)",
     "output_type": "error",
     "traceback": [
      "\u001b[1;36m  File \u001b[1;32m\"C:\\Users\\USER\\AppData\\Local\\Temp/ipykernel_6392/3592903436.py\"\u001b[1;36m, line \u001b[1;32m1\u001b[0m\n\u001b[1;33m    None=10\u001b[0m\n\u001b[1;37m    ^\u001b[0m\n\u001b[1;31mSyntaxError\u001b[0m\u001b[1;31m:\u001b[0m cannot assign to None\n"
     ]
    }
   ],
   "source": [
    "None=10"
   ]
  },
  {
   "cell_type": "code",
   "execution_count": 6,
   "id": "96e33590",
   "metadata": {},
   "outputs": [
    {
     "ename": "SyntaxError",
     "evalue": "invalid syntax (Temp/ipykernel_6392/3963200833.py, line 1)",
     "output_type": "error",
     "traceback": [
      "\u001b[1;36m  File \u001b[1;32m\"C:\\Users\\USER\\AppData\\Local\\Temp/ipykernel_6392/3963200833.py\"\u001b[1;36m, line \u001b[1;32m1\u001b[0m\n\u001b[1;33m    if=10\u001b[0m\n\u001b[1;37m      ^\u001b[0m\n\u001b[1;31mSyntaxError\u001b[0m\u001b[1;31m:\u001b[0m invalid syntax\n"
     ]
    }
   ],
   "source": [
    "if=10"
   ]
  },
  {
   "cell_type": "code",
   "execution_count": 7,
   "id": "b3c03e2f",
   "metadata": {},
   "outputs": [
    {
     "name": "stdout",
     "output_type": "stream",
     "text": [
      "10\n"
     ]
    }
   ],
   "source": [
    "#None=10\n",
    "none=10\n",
    "print(none)\n",
    "### None and none both are different"
   ]
  },
  {
   "cell_type": "code",
   "execution_count": 22,
   "id": "5c1f0da3",
   "metadata": {},
   "outputs": [
    {
     "ename": "SyntaxError",
     "evalue": "invalid syntax (Temp/ipykernel_6392/1911820442.py, line 2)",
     "output_type": "error",
     "traceback": [
      "\u001b[1;36m  File \u001b[1;32m\"C:\\Users\\USER\\AppData\\Local\\Temp/ipykernel_6392/1911820442.py\"\u001b[1;36m, line \u001b[1;32m2\u001b[0m\n\u001b[1;33m    class =10 #'class is a reserved keyword'\u001b[0m\n\u001b[1;37m          ^\u001b[0m\n\u001b[1;31mSyntaxError\u001b[0m\u001b[1;31m:\u001b[0m invalid syntax\n"
     ]
    }
   ],
   "source": [
    "### incorrect use of keywords as variable names\n",
    "class =10 #'class is a reserved keyword'\n",
    "return =5 #'return is a reserved keyword'\n",
    "if=\"hello\"# 'if is also a reserved keyword'\n",
    "else=3.14 #'else is also a reserved keyword'\n",
    "print(class,return,if, else)"
   ]
  },
  {
   "cell_type": "code",
   "execution_count": 23,
   "id": "f5740431",
   "metadata": {},
   "outputs": [
    {
     "name": "stdout",
     "output_type": "stream",
     "text": [
      "10 5 hello 3.14\n"
     ]
    }
   ],
   "source": [
    "#correct use of variables names\n",
    "class_number_1=10\n",
    "return_value=5\n",
    "if_string_1=\"hello\"\n",
    "else_name=3.14\n",
    "print(class_number_1,return_value,if_string_1,else_name)"
   ]
  },
  {
   "cell_type": "code",
   "execution_count": null,
   "id": "dd9a4d38",
   "metadata": {},
   "outputs": [],
   "source": [
    "## is used for making comments. we are telling python this is comment. i have used hash for making just as comment. it will not throw an error.\n",
    "### "
   ]
  },
  {
   "cell_type": "markdown",
   "id": "82829ef7",
   "metadata": {},
   "source": [
    "#### what is Identifiers\n",
    "Defination: A Identifier is a name given to entities like class, functions,variables etc. and it helps to differentiate one entity from another.\n",
    "\n",
    "syntax: Identifiers can be a combination of letters in lowercase(a to z) or uppercase(A to Z) or digits (0 to 9) or an underscore(_).\n",
    "\n",
    "They must start with a letter or the unserscore of charecters but not with a digit.\n",
    "\n",
    "Case-sentative: Identifiers in python is case sensative . For example myVariable and myvariable are two different identifiers in python.\n",
    "\n",
    "no special charecters: Identifiers can't have special charecters such as !, @, $,%.\n"
   ]
  },
  {
   "cell_type": "code",
   "execution_count": 29,
   "id": "a4f593d0",
   "metadata": {},
   "outputs": [
    {
     "name": "stdout",
     "output_type": "stream",
     "text": [
      "10\n",
      "20\n"
     ]
    }
   ],
   "source": [
    "marks=10\n",
    "MARKS=20\n",
    "print(marks)\n",
    "print(MARKS)"
   ]
  },
  {
   "cell_type": "code",
   "execution_count": 30,
   "id": "506b8e1f",
   "metadata": {},
   "outputs": [
    {
     "ename": "SyntaxError",
     "evalue": "invalid syntax (Temp/ipykernel_6392/3284736270.py, line 1)",
     "output_type": "error",
     "traceback": [
      "\u001b[1;36m  File \u001b[1;32m\"C:\\Users\\USER\\AppData\\Local\\Temp/ipykernel_6392/3284736270.py\"\u001b[1;36m, line \u001b[1;32m1\u001b[0m\n\u001b[1;33m    20marks=100\u001b[0m\n\u001b[1;37m      ^\u001b[0m\n\u001b[1;31mSyntaxError\u001b[0m\u001b[1;31m:\u001b[0m invalid syntax\n"
     ]
    }
   ],
   "source": [
    "#it should not start with digit\n",
    "20marks=100\n",
    "print(20marks)"
   ]
  },
  {
   "cell_type": "code",
   "execution_count": 31,
   "id": "830a89b0",
   "metadata": {},
   "outputs": [
    {
     "name": "stdout",
     "output_type": "stream",
     "text": [
      "800\n"
     ]
    }
   ],
   "source": [
    "#underscore allows to make it as identiers.. \n",
    "_marks=800\n",
    "print(_marks)"
   ]
  },
  {
   "cell_type": "code",
   "execution_count": 34,
   "id": "80dd068d",
   "metadata": {},
   "outputs": [
    {
     "ename": "SyntaxError",
     "evalue": "invalid syntax (Temp/ipykernel_6392/196096727.py, line 1)",
     "output_type": "error",
     "traceback": [
      "\u001b[1;36m  File \u001b[1;32m\"C:\\Users\\USER\\AppData\\Local\\Temp/ipykernel_6392/196096727.py\"\u001b[1;36m, line \u001b[1;32m1\u001b[0m\n\u001b[1;33m    $10marks=100\u001b[0m\n\u001b[1;37m    ^\u001b[0m\n\u001b[1;31mSyntaxError\u001b[0m\u001b[1;31m:\u001b[0m invalid syntax\n"
     ]
    }
   ],
   "source": [
    "#special charecters not allowed to make it as identifiers\n",
    "$10marks=100\n",
    "print($10marks)"
   ]
  },
  {
   "cell_type": "code",
   "execution_count": 36,
   "id": "9fe962c5",
   "metadata": {},
   "outputs": [
    {
     "ename": "SyntaxError",
     "evalue": "invalid syntax (Temp/ipykernel_6392/2831871825.py, line 2)",
     "output_type": "error",
     "traceback": [
      "\u001b[1;36m  File \u001b[1;32m\"C:\\Users\\USER\\AppData\\Local\\Temp/ipykernel_6392/2831871825.py\"\u001b[1;36m, line \u001b[1;32m2\u001b[0m\n\u001b[1;33m    @marks=100\u001b[0m\n\u001b[1;37m          ^\u001b[0m\n\u001b[1;31mSyntaxError\u001b[0m\u001b[1;31m:\u001b[0m invalid syntax\n"
     ]
    }
   ],
   "source": [
    "#special charecters not allowed to make it as identifiers\n",
    "@marks=100\n",
    "print(@marks)"
   ]
  },
  {
   "cell_type": "code",
   "execution_count": 33,
   "id": "d9fadb3c",
   "metadata": {},
   "outputs": [],
   "source": [
    "marks =80\n",
    "_value=90\n",
    "_room_no=\"30A\""
   ]
  },
  {
   "cell_type": "markdown",
   "id": "3cb5d34d",
   "metadata": {},
   "source": [
    "#### Comments\n",
    "Defination : A comment in python is a piece of text in your code that is not executed. It is typically used to explain what the code is doing or leave notes for developers who will be reading or maintaining the code.\n",
    "\n",
    "Single-line-comment: python uses the hash symbol (#) to denote a comment . Any text following the # on the same line will be ignored by the python interpreter.\n",
    "\n",
    "Mutli-line-comment: python does not have a special syntax for multi line comment. developers typically use a single # for each line to create multi-line comments. Alternatively, multi line string using triple quotes(\"\"or \"\"\") can also be used as multi-line-comments because any string not assigned to a variable is ignored by python. \n",
    "\n",
    "Docstring or document strings: Docstring are type of a comment used to explain the purpose of a function or a class. They are created using triple quotes and are placed immediately after the defination of a function or class. Docstring can span mutliple lines and are accessible at runtime using the __doc__ attributes."
   ]
  },
  {
   "cell_type": "code",
   "execution_count": 39,
   "id": "4e604b5e",
   "metadata": {},
   "outputs": [
    {
     "name": "stdout",
     "output_type": "stream",
     "text": [
      "10\n"
     ]
    }
   ],
   "source": [
    "# add two numbers\n",
    "a=4 # value of a is 4\n",
    "b=6 # value of b is 6\n",
    "## this C is Uppercase letter\n",
    "c=a+b #sum is in c\n",
    "#c is lowecase\n",
    "print(c)"
   ]
  },
  {
   "cell_type": "code",
   "execution_count": null,
   "id": "8ebd6b47",
   "metadata": {},
   "outputs": [],
   "source": [
    "#a=5\n",
    "#b=6\n",
    "#c=9\n"
   ]
  },
  {
   "cell_type": "code",
   "execution_count": 45,
   "id": "907ef9c3",
   "metadata": {},
   "outputs": [],
   "source": [
    "def execute_name(a,b):\n",
    "    \"\"\"\n",
    "    This function is adding two variables\n",
    "    variables names are a and b\n",
    "    we need to calculate the sum in variable c\n",
    "    \n",
    "    a(int): The first variable\n",
    "    b(int): The second variable\n",
    "    \n",
    "    return:\n",
    "    int: sum of a and b\n",
    "    \n",
    "    \"\"\"\n",
    "    return a+b"
   ]
  },
  {
   "cell_type": "code",
   "execution_count": 46,
   "id": "7482c985",
   "metadata": {},
   "outputs": [
    {
     "name": "stdout",
     "output_type": "stream",
     "text": [
      "30\n"
     ]
    }
   ],
   "source": [
    "print(execute_name(10,20))"
   ]
  },
  {
   "cell_type": "code",
   "execution_count": 47,
   "id": "cd345916",
   "metadata": {},
   "outputs": [
    {
     "name": "stdout",
     "output_type": "stream",
     "text": [
      "\n",
      "    This function is adding two variables\n",
      "    variables names are a and b\n",
      "    we need to calculate the sum in variable c\n",
      "    \n",
      "    a(int): The first variable\n",
      "    b(int): The second variable\n",
      "    \n",
      "    return:\n",
      "    int: sum of a and b\n",
      "    \n",
      "    \n"
     ]
    }
   ],
   "source": [
    "#__doc__ attribute is showing the output what is written inside that function with the help of__doc__\n",
    "print(execute_name.__doc__)"
   ]
  },
  {
   "cell_type": "code",
   "execution_count": 50,
   "id": "68639153",
   "metadata": {},
   "outputs": [
    {
     "data": {
      "text/plain": [
       "'Automatically created module for IPython interactive environment'"
      ]
     },
     "execution_count": 50,
     "metadata": {},
     "output_type": "execute_result"
    }
   ],
   "source": [
    "__doc__"
   ]
  },
  {
   "cell_type": "code",
   "execution_count": 49,
   "id": "a2868c74",
   "metadata": {},
   "outputs": [
    {
     "data": {
      "text/plain": [
       "'\\n    \\n    a(int): The first variable\\n    b(int): The second variable\\n    \\n    return:\\n    int: sum of a and b\\n    \\n    '"
      ]
     },
     "execution_count": 49,
     "metadata": {},
     "output_type": "execute_result"
    }
   ],
   "source": [
    "   \"\"\" \n",
    "    a(int): The first variable\n",
    "    b(int): The second variable\n",
    "    return:\n",
    "    int: sum of a and b\n",
    "    \n",
    "    \"\"\""
   ]
  },
  {
   "cell_type": "markdown",
   "id": "8c6c6e2f",
   "metadata": {},
   "source": [
    "#### Indentation\n",
    "\n",
    "1. Importance : in python, indentation is not just for readability. it's a part of the syntax and is used to indicate a block of code.\n",
    "\n",
    "2. Space Usage: in python uses indentation to define the scope of loops, functions, classes, etc. The standard practice is to use four spaces for each level of indentation but you can use any number of spaces, as long as the indentation is consistent within a block of code.\n",
    "\n",
    "3. colon: Usually, a colon(:) at the end of the line followed by an indentated block of code. This is common with structures like if, def, for, while, class etc."
   ]
  },
  {
   "cell_type": "code",
   "execution_count": 55,
   "id": "b3ef750a",
   "metadata": {},
   "outputs": [
    {
     "name": "stdout",
     "output_type": "stream",
     "text": [
      "this is true\n"
     ]
    }
   ],
   "source": [
    "if True:\n",
    "    print(\"this is true\")"
   ]
  },
  {
   "cell_type": "code",
   "execution_count": 61,
   "id": "4b14fe8a",
   "metadata": {},
   "outputs": [],
   "source": [
    "def my_fun():\n",
    "    return \"hello\""
   ]
  },
  {
   "cell_type": "code",
   "execution_count": 59,
   "id": "9a61f6d6",
   "metadata": {},
   "outputs": [
    {
     "data": {
      "text/plain": [
       "'hello'"
      ]
     },
     "execution_count": 59,
     "metadata": {},
     "output_type": "execute_result"
    }
   ],
   "source": [
    "my_fun()"
   ]
  },
  {
   "cell_type": "code",
   "execution_count": 62,
   "id": "398d3d08",
   "metadata": {},
   "outputs": [
    {
     "ename": "IndentationError",
     "evalue": "expected an indented block (Temp/ipykernel_6392/3170168807.py, line 3)",
     "output_type": "error",
     "traceback": [
      "\u001b[1;36m  File \u001b[1;32m\"C:\\Users\\USER\\AppData\\Local\\Temp/ipykernel_6392/3170168807.py\"\u001b[1;36m, line \u001b[1;32m3\u001b[0m\n\u001b[1;33m    print(\"This is my statement true!!\") #error : expected an indented block\u001b[0m\n\u001b[1;37m    ^\u001b[0m\n\u001b[1;31mIndentationError\u001b[0m\u001b[1;31m:\u001b[0m expected an indented block\n"
     ]
    }
   ],
   "source": [
    "# incorrect use of indentation\n",
    "if True:\n",
    "print(\"This is my statement true!!\") #error : expected an indented block\n",
    "\n",
    "for i in range(3):\n",
    "print(i) #error : expected an indented block\n",
    "\n",
    "def hello():\n",
    "print(\"Hello World!!!\") #error : expected an indented block\n",
    "\n",
    "while False:\n",
    "print(\"This won't print\") #error : expected an indented block\n"
   ]
  },
  {
   "cell_type": "code",
   "execution_count": 63,
   "id": "94061519",
   "metadata": {},
   "outputs": [
    {
     "name": "stdout",
     "output_type": "stream",
     "text": [
      "This is my statement true!!\n"
     ]
    }
   ],
   "source": [
    "if True:\n",
    "    print(\"This is my statement true!!\")"
   ]
  },
  {
   "cell_type": "code",
   "execution_count": 65,
   "id": "aabc4d28",
   "metadata": {},
   "outputs": [
    {
     "name": "stdout",
     "output_type": "stream",
     "text": [
      "0\n",
      "1\n",
      "2\n"
     ]
    }
   ],
   "source": [
    "for i in range(3):\n",
    "    print(i)"
   ]
  },
  {
   "cell_type": "code",
   "execution_count": 66,
   "id": "23b16fac",
   "metadata": {},
   "outputs": [],
   "source": [
    "def hello():\n",
    "    print(\"Hello World!!!\")"
   ]
  },
  {
   "cell_type": "code",
   "execution_count": null,
   "id": "b89e7e98",
   "metadata": {},
   "outputs": [],
   "source": [
    "while False:\n",
    "    print(\"This won't print\")"
   ]
  },
  {
   "cell_type": "markdown",
   "id": "0d09c2be",
   "metadata": {},
   "source": [
    "### Statement\n",
    "\n",
    "1. Defination: A statement in python is a logical instruction that the python interpreter can read and execute. In general, a statement performs some action.\n",
    "\n",
    "2. Types: Python includes several types of statements including assignment statements, conditional statements and looping statements.\n"
   ]
  },
  {
   "cell_type": "code",
   "execution_count": 5,
   "id": "dc289fee",
   "metadata": {},
   "outputs": [
    {
     "name": "stdout",
     "output_type": "stream",
     "text": [
      "Postive numbers\n"
     ]
    }
   ],
   "source": [
    "# conditional statement\n",
    "x=2\n",
    "if x>0:\n",
    "    print(\"Postive numbers\")\n",
    "else:\n",
    "    print(\"sssssssss\")\n",
    "    "
   ]
  },
  {
   "cell_type": "markdown",
   "id": "ce5f193f",
   "metadata": {},
   "source": [
    "Multi-line-statement: in python, end of a statement is marked by a newline charecter. But we can make\n",
    "a statement extend over multiple lines with line continuation charecter (\\) or you can do parentheses() or you can do brackets[] or you can do {} or strings. you can also write multiple statements on a single line using semicolons(;)"
   ]
  },
  {
   "cell_type": "code",
   "execution_count": 9,
   "id": "627c1827",
   "metadata": {},
   "outputs": [
    {
     "name": "stdout",
     "output_type": "stream",
     "text": [
      "109\n"
     ]
    }
   ],
   "source": [
    "##using parentheses\n",
    "z=(1+3+2+3+4+2+4+1+3+2+3+4+2+4+1+3+2+3+4+\n",
    "1+3+2+3+4+2+4+1+3+2+3+4+2+4+1+3+2+3+4+2+4+1)\n",
    "print(z)"
   ]
  },
  {
   "cell_type": "code",
   "execution_count": 18,
   "id": "67edb813",
   "metadata": {},
   "outputs": [
    {
     "name": "stdout",
     "output_type": "stream",
     "text": [
      "110\n"
     ]
    }
   ],
   "source": [
    "#using slash\n",
    "z=1+3+2+3+4+2+4+1+3+2+3+4+2+4+1+3+2+3+4+\\\n",
    "1+3+2+3+4+2+4+1+3+2+3+4+2+4+1+3+2+3+4+2+4+1\\\n",
    "+1\n",
    "\n",
    "print(z)"
   ]
  },
  {
   "cell_type": "markdown",
   "id": "31fd05d6",
   "metadata": {},
   "source": [
    "### Variables\n",
    "1. Defination: in python, a variable is a named location used to store data in memory.\n",
    "\n",
    "2. Declaration and assignments: Variables are declared by writing the variable name and assigning it a value using the equal sign(=)"
   ]
  },
  {
   "cell_type": "markdown",
   "id": "863f3f2c",
   "metadata": {},
   "source": [
    "### Dynamic typing\n",
    "python is dynamically typed which means that you don't have to declare the type of a variable when you create it. you can  even change the type of data held by a variable at any time."
   ]
  },
  {
   "cell_type": "code",
   "execution_count": 19,
   "id": "47b3af95",
   "metadata": {},
   "outputs": [],
   "source": [
    "a=5"
   ]
  },
  {
   "cell_type": "code",
   "execution_count": 20,
   "id": "0979e395",
   "metadata": {},
   "outputs": [
    {
     "data": {
      "text/plain": [
       "int"
      ]
     },
     "execution_count": 20,
     "metadata": {},
     "output_type": "execute_result"
    }
   ],
   "source": [
    "type(a)"
   ]
  },
  {
   "cell_type": "code",
   "execution_count": 21,
   "id": "4699347f",
   "metadata": {},
   "outputs": [
    {
     "data": {
      "text/plain": [
       "str"
      ]
     },
     "execution_count": 21,
     "metadata": {},
     "output_type": "execute_result"
    }
   ],
   "source": [
    "b=\"my name\"\n",
    "type(b)"
   ]
  },
  {
   "cell_type": "code",
   "execution_count": 22,
   "id": "8664692c",
   "metadata": {},
   "outputs": [
    {
     "data": {
      "text/plain": [
       "bool"
      ]
     },
     "execution_count": 22,
     "metadata": {},
     "output_type": "execute_result"
    }
   ],
   "source": [
    "c=False\n",
    "type(c)"
   ]
  },
  {
   "cell_type": "code",
   "execution_count": 23,
   "id": "6306856f",
   "metadata": {},
   "outputs": [
    {
     "data": {
      "text/plain": [
       "list"
      ]
     },
     "execution_count": 23,
     "metadata": {},
     "output_type": "execute_result"
    }
   ],
   "source": [
    "d=[1,\"kaushik\",2,4,5]\n",
    "type(d)"
   ]
  },
  {
   "cell_type": "code",
   "execution_count": 24,
   "id": "54ec998b",
   "metadata": {},
   "outputs": [
    {
     "data": {
      "text/plain": [
       "float"
      ]
     },
     "execution_count": 24,
     "metadata": {},
     "output_type": "execute_result"
    }
   ],
   "source": [
    "e=9.6\n",
    "type(e)"
   ]
  },
  {
   "cell_type": "code",
   "execution_count": 25,
   "id": "18d5ba6f",
   "metadata": {},
   "outputs": [
    {
     "data": {
      "text/plain": [
       "tuple"
      ]
     },
     "execution_count": 25,
     "metadata": {},
     "output_type": "execute_result"
    }
   ],
   "source": [
    "f=(\"kaushik\",\"Dey\")\n",
    "type(f)"
   ]
  },
  {
   "cell_type": "code",
   "execution_count": 26,
   "id": "c2246ab8",
   "metadata": {},
   "outputs": [
    {
     "data": {
      "text/plain": [
       "dict"
      ]
     },
     "execution_count": 26,
     "metadata": {},
     "output_type": "execute_result"
    }
   ],
   "source": [
    "gh={\"name\":\"kaushik\"}\n",
    "type(gh)"
   ]
  },
  {
   "cell_type": "code",
   "execution_count": 29,
   "id": "0680f14c",
   "metadata": {},
   "outputs": [
    {
     "name": "stdout",
     "output_type": "stream",
     "text": [
      "<class 'str'> <class 'int'>\n"
     ]
    },
    {
     "data": {
      "text/plain": [
       "float"
      ]
     },
     "execution_count": 29,
     "metadata": {},
     "output_type": "execute_result"
    }
   ],
   "source": [
    "#percentage\n",
    "# where you donot have dynamic typing\n",
    "# int percentage\n",
    "\n",
    "#dynamic typing\n",
    "b=34\n",
    "c=\"kkkkk\"\n",
    "print(type(c),type(b))\n",
    "percentage=80.90\n",
    "type(percentage)"
   ]
  },
  {
   "cell_type": "markdown",
   "id": "9d3a3a0c",
   "metadata": {},
   "source": [
    "### Data types in python"
   ]
  },
  {
   "cell_type": "markdown",
   "id": "dae39126",
   "metadata": {},
   "source": [
    "Integers: integers are whole numbers without a fractional component. they can be postive or negative."
   ]
  },
  {
   "cell_type": "code",
   "execution_count": 31,
   "id": "62b0ee62",
   "metadata": {},
   "outputs": [
    {
     "data": {
      "text/plain": [
       "int"
      ]
     },
     "execution_count": 31,
     "metadata": {},
     "output_type": "execute_result"
    }
   ],
   "source": [
    "x=5\n",
    "type(x)"
   ]
  },
  {
   "cell_type": "markdown",
   "id": "72568991",
   "metadata": {},
   "source": [
    "Floats: floats represent real numbers and are written with a decimal point"
   ]
  },
  {
   "cell_type": "code",
   "execution_count": 32,
   "id": "1466aa3f",
   "metadata": {},
   "outputs": [
    {
     "data": {
      "text/plain": [
       "float"
      ]
     },
     "execution_count": 32,
     "metadata": {},
     "output_type": "execute_result"
    }
   ],
   "source": [
    "x=5.66\n",
    "type(x)"
   ]
  },
  {
   "cell_type": "markdown",
   "id": "4da1046d",
   "metadata": {},
   "source": [
    "Strings: strings in python are sequences of charecter data. they are created by enclosing charecters in quotes"
   ]
  },
  {
   "cell_type": "code",
   "execution_count": 33,
   "id": "377ec5e7",
   "metadata": {},
   "outputs": [
    {
     "data": {
      "text/plain": [
       "str"
      ]
     },
     "execution_count": 33,
     "metadata": {},
     "output_type": "execute_result"
    }
   ],
   "source": [
    "name1=\"kaushikdey\"\n",
    "type(name1)"
   ]
  },
  {
   "cell_type": "markdown",
   "id": "6282f63f",
   "metadata": {},
   "source": [
    "#### List\n",
    "1. Defination: A list in python is an ordered collection (also known as a sequence) of items. Lists are similar to arrays in other languages like javascript but with additional functionality.\n",
    "\n",
    "2. Mutable: Lists are mutable which means their elements can be changed(added, modified, or deleted), after they created.\n",
    "\n",
    "3. Creation: A list is created by placing items(elements) inside square brackets[], separated by commas.\n"
   ]
  },
  {
   "cell_type": "code",
   "execution_count": 37,
   "id": "bf8ced4c",
   "metadata": {},
   "outputs": [
    {
     "name": "stdout",
     "output_type": "stream",
     "text": [
      "['apples', 'bananas', 'Grapes']\n"
     ]
    }
   ],
   "source": [
    "my_fruit_list=[\"apples\",\"bananas\",\"Grapes\"]\n",
    "print(my_fruit_list)"
   ]
  },
  {
   "cell_type": "code",
   "execution_count": 42,
   "id": "b5a33a06",
   "metadata": {},
   "outputs": [
    {
     "data": {
      "text/plain": [
       "'apples'"
      ]
     },
     "execution_count": 42,
     "metadata": {},
     "output_type": "execute_result"
    }
   ],
   "source": [
    "#python index start from 0.\n",
    "my_fruit_list[0]"
   ]
  },
  {
   "cell_type": "code",
   "execution_count": 38,
   "id": "16f6aaf9",
   "metadata": {},
   "outputs": [
    {
     "data": {
      "text/plain": [
       "list"
      ]
     },
     "execution_count": 38,
     "metadata": {},
     "output_type": "execute_result"
    }
   ],
   "source": [
    "type(my_fruit_list)"
   ]
  },
  {
   "cell_type": "markdown",
   "id": "f7b28c2a",
   "metadata": {},
   "source": [
    "Heterogenous elements: A list can contain elements of differnt types: integers, floats, strings, and even other list.\n",
    "\n",
    "Indexing and slicing: Lists support indexing and slicing to access and modify their elements. python list indices start at 0. "
   ]
  },
  {
   "cell_type": "code",
   "execution_count": 40,
   "id": "a4632987",
   "metadata": {},
   "outputs": [
    {
     "name": "stdout",
     "output_type": "stream",
     "text": [
      "[1, 'Kaushik', False, ['apples', 'bananas', 'Grapes']]\n"
     ]
    }
   ],
   "source": [
    "sub_list=[\"ss\",\"nn\",\"cc\"]\n",
    "my_custom_list=[1,\"Kaushik\",False,my_fruit_list]\n",
    "print(my_custom_list)"
   ]
  },
  {
   "cell_type": "code",
   "execution_count": 41,
   "id": "5157506d",
   "metadata": {},
   "outputs": [
    {
     "name": "stdout",
     "output_type": "stream",
     "text": [
      "[1, 'Kaushik', False, ['apples', 'bananas', 'Grapes'], ['ss', 'nn', 'cc']]\n"
     ]
    }
   ],
   "source": [
    "my_custom_list=[1,\"Kaushik\",False,my_fruit_list,sub_list]\n",
    "print(my_custom_list)"
   ]
  },
  {
   "cell_type": "code",
   "execution_count": 45,
   "id": "8691fd99",
   "metadata": {},
   "outputs": [
    {
     "name": "stdout",
     "output_type": "stream",
     "text": [
      "apples\n",
      "bananas\n",
      "Grapes\n"
     ]
    }
   ],
   "source": [
    "#python index start from 0.\n",
    "print(my_fruit_list[0])\n",
    "print(my_fruit_list[1])\n",
    "print(my_fruit_list[2])"
   ]
  },
  {
   "cell_type": "code",
   "execution_count": 49,
   "id": "31ec5ffb",
   "metadata": {},
   "outputs": [
    {
     "name": "stdout",
     "output_type": "stream",
     "text": [
      "<class 'list'>\n",
      "[1, 'Sam', ['apples', 'bananas', 'grapes']]\n"
     ]
    }
   ],
   "source": [
    "hetro_mylist=[1,\"Sam\",[\"apples\",\"bananas\",\"grapes\"]]\n",
    "print(type(hetro_mylist))\n",
    "print(hetro_mylist)"
   ]
  },
  {
   "cell_type": "code",
   "execution_count": 51,
   "id": "e2454386",
   "metadata": {},
   "outputs": [
    {
     "name": "stdout",
     "output_type": "stream",
     "text": [
      "['apples', 'bananas', 'Grapes', 'coconut']\n"
     ]
    }
   ],
   "source": [
    "my_fruit_list=[\"apples\",\"bananas\",\"Grapes\"]\n",
    "#append means you can add elements inside the list\n",
    "# like javascript it is called push\n",
    "my_fruit_list.append(\"coconut\")\n",
    "print(my_fruit_list)"
   ]
  },
  {
   "cell_type": "code",
   "execution_count": 53,
   "id": "be9bd913",
   "metadata": {},
   "outputs": [
    {
     "data": {
      "text/plain": [
       "'bananas'"
      ]
     },
     "execution_count": 53,
     "metadata": {},
     "output_type": "execute_result"
    }
   ],
   "source": [
    "#you can remove item via indexing in a list \n",
    "my_fruit_list.pop(1)"
   ]
  },
  {
   "cell_type": "code",
   "execution_count": 54,
   "id": "7311c441",
   "metadata": {},
   "outputs": [
    {
     "data": {
      "text/plain": [
       "['apples', 'Grapes', 'coconut']"
      ]
     },
     "execution_count": 54,
     "metadata": {},
     "output_type": "execute_result"
    }
   ],
   "source": [
    "my_fruit_list"
   ]
  },
  {
   "cell_type": "markdown",
   "id": "3013a83c",
   "metadata": {},
   "source": [
    "my_fruit_list[1]"
   ]
  },
  {
   "cell_type": "markdown",
   "id": "701617a5",
   "metadata": {},
   "source": [
    "### Tuples\n",
    "1. Defination: A tuple in python is similar to a list.it's an ordered collection of items.\n",
    "\n",
    "2. Immutable: The major difference from lists that tuples are immutable which means their elements can't be changed ( no addition, no modification or deletion) after they created.\n",
    "\n",
    "3. Creation: A tuple is created by placing items(elements) inside parenthesis(), sepearated by commas.\n",
    "\n",
    "4. Heterogeneous elements: Like Lists, a tuple can also contain elements of different types: integers, floats, strings and even other tuples or list\n",
    "\n",
    "5. indexing and slicing : Tuples also support the indexing and slicing like lists but you cann't modify the elements"
   ]
  },
  {
   "cell_type": "code",
   "execution_count": 59,
   "id": "3b2b5100",
   "metadata": {},
   "outputs": [
    {
     "name": "stdout",
     "output_type": "stream",
     "text": [
      "<class 'tuple'>\n",
      "('python', 'ML', 'DL', 'AI')\n"
     ]
    }
   ],
   "source": [
    "my_tuples=(\"python\",\"ML\",\"DL\",\"AI\")\n",
    "print(type(my_tuples))\n",
    "print(my_tuples)"
   ]
  },
  {
   "cell_type": "code",
   "execution_count": null,
   "id": "8e3194fa",
   "metadata": {},
   "outputs": [],
   "source": [
    "\n",
    "my_list=[1,2,3,4]\n",
    "my_tuples=(1,2,3,4)\n",
    "\n",
    "#lists are mutable and tuples are immutable."
   ]
  },
  {
   "cell_type": "code",
   "execution_count": 63,
   "id": "8a742366",
   "metadata": {},
   "outputs": [
    {
     "name": "stdout",
     "output_type": "stream",
     "text": [
      "(1, 'Alice', ['Apples', 'Bananas', 'Grapes'])\n",
      "<class 'tuple'>\n"
     ]
    }
   ],
   "source": [
    "hetro_geneous_tuples=(1, \"Alice\",[\"Apples\",\"Bananas\",\"Grapes\"])\n",
    "print(hetro_geneous_tuples)\n",
    "print(type(hetro_geneous_tuples))"
   ]
  },
  {
   "cell_type": "code",
   "execution_count": 77,
   "id": "5b8d01a0",
   "metadata": {},
   "outputs": [
    {
     "name": "stdout",
     "output_type": "stream",
     "text": [
      "['Apples', 'Bananas', 'Grapes']\n",
      "['Apples', 'Bananas', 'Grapes', 'Coconut1']\n",
      "('Apples', 'Bananas', 'Grapes', 'Coconut1')\n",
      "('Apples', 'Bananas', 'Grapes', 'Coconut1')\n"
     ]
    }
   ],
   "source": [
    "#you have to add one more item inside the tuples\n",
    "#this is my tuples\n",
    "my_fruit_tuples=(\"Apples\",\"Bananas\",\"Grapes\")\n",
    "#convert tuples into list\n",
    "convert_my_tuples_in_list=list(my_fruit_tuples)\n",
    "#check their data type after converting\n",
    "type(convert_my_tuples_in_list)\n",
    "#print the list value and we can see as it is lists are showing with their values\n",
    "print(convert_my_tuples_in_list)\n",
    "# add new item inside the list\n",
    "convert_my_tuples_in_list.append(\"Coconut1\")\n",
    "#now print the updated list\n",
    "print(convert_my_tuples_in_list)\n",
    "#convert my list in tuples\n",
    "convert_my_list_in_tuples=tuple(convert_my_tuples_in_list)\n",
    "print(convert_my_list_in_tuples)\n",
    "#assign the tuples value inside my_fruit_tuples\n",
    "my_fruit_tuples=convert_my_list_in_tuples\n",
    "print(my_fruit_tuples)"
   ]
  },
  {
   "cell_type": "markdown",
   "id": "49adbb29",
   "metadata": {},
   "source": [
    "#### Dictionaries\n",
    "1. Defination: A dict in python is an unordered collection of items . each item stored in a dict has a key value pair.\n",
    "\n",
    "2. Mutable: Dict are mutable which means you can change their elements. you can add, modify or delete key value pairs from a dict.\n",
    "\n",
    "3. Creation : A dict is created by placing items (key value pair), inside curly braces{}, separated by commas. Each item is a pair made up of a key value , seperated by a colon:\n",
    "4. Heterogeneous_elements: keys and values in a dict can be of any type. values can be heterogeneous but keys should be of an immutable type(like string, number and tuples).\n",
    "\n",
    "5. unique keys: each key in a dict should be unique in nature. if a dict is created with duplicate keys the last assignment is overwrite the previous one."
   ]
  },
  {
   "cell_type": "code",
   "execution_count": 86,
   "id": "3ae7398f",
   "metadata": {},
   "outputs": [
    {
     "name": "stdout",
     "output_type": "stream",
     "text": [
      "{'name': 'kaushik', 'skill': 'python'}\n",
      "{'name': 'kaushik', 'skill': 'python', 'location': 'kolkata'}\n"
     ]
    }
   ],
   "source": [
    "my_dict={\"name\":\"kaushik\",\"skill\":\"python\"}\n",
    "type(my_dict)\n",
    "print(my_dict)\n",
    "my_dict[\"location\"]=\"kolkata\"\n",
    "print(my_dict)"
   ]
  },
  {
   "cell_type": "code",
   "execution_count": 85,
   "id": "57b6fba1",
   "metadata": {},
   "outputs": [
    {
     "name": "stdout",
     "output_type": "stream",
     "text": [
      "<built-in method keys of dict object at 0x000001B64F3D6700>\n",
      "<built-in method values of dict object at 0x000001B64F3D6700>\n"
     ]
    }
   ],
   "source": [
    "print(my_dict.keys)\n",
    "print(my_dict.values)"
   ]
  },
  {
   "cell_type": "code",
   "execution_count": 99,
   "id": "b41abfb7",
   "metadata": {},
   "outputs": [
    {
     "name": "stdout",
     "output_type": "stream",
     "text": [
      "dict_keys(['name', 'skill', 'location'])\n",
      "<built-in method keys of dict object at 0x000001B64F3643C0>\n",
      "dict_values(['kaushik', 'python', 'kolkata'])\n",
      "<built-in method values of dict object at 0x000001B64F3643C0>\n"
     ]
    }
   ],
   "source": [
    "#get the items from keys of dict\n",
    "print(my_dict.keys())\n",
    "print(my_dict.keys)\n",
    "#get the items from values of dict\n",
    "print(my_dict.values())\n",
    "print(my_dict.values)"
   ]
  },
  {
   "cell_type": "code",
   "execution_count": 82,
   "id": "e1def24a",
   "metadata": {},
   "outputs": [
    {
     "name": "stdout",
     "output_type": "stream",
     "text": [
      "{'name': 'rajesh', 'skill': 'Angular'}\n"
     ]
    }
   ],
   "source": [
    "my_dict={\"name\":\"kaushik\",\"skill\":\"python\",\"name\":\"rajesh\",\"skill\":\"Angular\"}\n",
    "type(my_dict)\n",
    "print(my_dict)"
   ]
  },
  {
   "cell_type": "code",
   "execution_count": 97,
   "id": "af82ebee",
   "metadata": {},
   "outputs": [
    {
     "name": "stdout",
     "output_type": "stream",
     "text": [
      "get the particular value of key skill python\n",
      "get the particular value of key name kaushik\n",
      "get the particular value of key location kolkata\n"
     ]
    }
   ],
   "source": [
    "#with the help of get() of dict we can get the values of dict \n",
    "print(f'get the particular value of key skill {my_dict.get(\"skill\")}')\n",
    "print(f'get the particular value of key name {my_dict.get(\"name\")}')\n",
    "print(f'get the particular value of key location {my_dict.get(\"location\")}')"
   ]
  }
 ],
 "metadata": {
  "kernelspec": {
   "display_name": "Python 3 (ipykernel)",
   "language": "python",
   "name": "python3"
  },
  "language_info": {
   "codemirror_mode": {
    "name": "ipython",
    "version": 3
   },
   "file_extension": ".py",
   "mimetype": "text/x-python",
   "name": "python",
   "nbconvert_exporter": "python",
   "pygments_lexer": "ipython3",
   "version": "3.9.7"
  }
 },
 "nbformat": 4,
 "nbformat_minor": 5
}
